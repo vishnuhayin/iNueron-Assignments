{
 "cells": [
  {
   "cell_type": "markdown",
   "id": "2660b94a",
   "metadata": {},
   "source": [
    "#### 1. In the below elements which of them are values or an expression? eg:- values can be integer or string and expressions will be mathematical operators.\n",
    "\n",
    "    *       :- expression\n",
    "    'hello' :- value\n",
    "    -87.8   :- value\n",
    "    -       :- expression\n",
    "    /       :- expression\n",
    "    +       :- expression\n",
    "    6       :- value\n"
   ]
  },
  {
   "cell_type": "markdown",
   "id": "9420c2a8",
   "metadata": {},
   "source": [
    "#### 2. What is the difference between string and variable?\n",
    "   \n",
    "**Ans:** \n",
    "Variable: Variable is a memory location denoted using an alphabet or a group of alphabets ('_' can be used for naming variables) which can be used to store data temporarily during the execution of a program. Each variable will be having a data type of its own. Eg: int x => Here 'x' is a variable with type as integer which can be used to store integer values.\n",
    "                \n",
    "String: A string is a sequence of characters which are represented using quotes at both ends. eg: \"Vishnu\" , 'Raj'. A string can be stored inside a variable to work with it inside a program. In python the word 'String' also represents the data type 'str' which can be used to declaring variables for storing string values.Eg: str word = \"Vishnu\" => Here 'word' is variable of 'str' type, which is used to store the string 'Vishnu'.\n"
   ]
  },
  {
   "cell_type": "markdown",
   "id": "f0f4f95b",
   "metadata": {},
   "source": [
    "### 3. Describe three different data types.\n",
    "\n",
    "**Ans:** Boolean: Boolean, represented as 'bool', is a data type which is used to declare variables that can store only 2 values that are True , False.\n",
    "\n",
    "Set: Set, represented as 'set', is an unordered collection of data type that is iterable, mutable and has no duplicate elements. The order of elements in a set is undefined though it may consist of various elements. eg: {1, 2, 4, 6, 'Vishnu', True}\n",
    "\n",
    "Dictonary: Dictonary, represented as 'dict', is an unordered collection of data values, used to store data values like a map, which unlike other Data Types that hold only single value as an element, Dictionary holds key:value pair. Key-value is provided in the dictionary to make it more optimized. Each key-value pair in a Dictionary is separated by a colon :, whereas each key is separated by a ‘comma’. eg: {1: [1, 2, 3, 4], 'Name': 'Vishnu'}\n"
   ]
  },
  {
   "cell_type": "markdown",
   "id": "418bed89",
   "metadata": {},
   "source": [
    "#### 4. What is an expression made up of? What do all expressions do?\n",
    "\n",
    "**Ans:**\n",
    "    An expression is made up of identifiers, literals and operators.\n",
    "    An expression combines values and operators and evaluates it to a single value."
   ]
  },
  {
   "cell_type": "markdown",
   "id": "b110733b",
   "metadata": {},
   "source": [
    "#### 5. This assignment statements, like spam = 10. What is the difference between an expression and a statement?\n",
    "\n",
    "**Ans:** Any instruction that a python interpreter can execute is called a statement whereas an expression is a combination of identifiers, literals and operators that always produces or returns a result value. An expression is itself a statement whereas a statement may or maynot be an expression."
   ]
  },
  {
   "cell_type": "markdown",
   "id": "4f7e1237",
   "metadata": {},
   "source": [
    "#### 6. After running the following code, what does the variable bacon contain?\n",
    "    bacon = 22\n",
    "    bacon + 1\n",
    "    \n",
    "**Ans:**\n",
    "    bacon = 22\n",
    "    bacon + 1 # bacon's value is not incremented here\n",
    "    print(bacon) #ouput: 'Bacon contains:22'\n"
   ]
  },
  {
   "cell_type": "markdown",
   "id": "f531d58a",
   "metadata": {},
   "source": [
    "#### 7. What should the values of the following two terms be?\n",
    "\n",
    "    'spam' + 'spamspam' :- 'spamspamspam'\n",
    "    'spam' * 3          :- 'spamspamspam' "
   ]
  },
  {
   "cell_type": "markdown",
   "id": "87038c56",
   "metadata": {},
   "source": [
    "#### 8. Why is eggs a valid variable name while 100 is invalid?\n",
    "\n",
    "**Ans:** A variable is denoted using an alphabet or a group of alphabets ('_' can be used for naming variables) which can be used to store data temporarily during the execution of a program. Since 'eggs' is a group of alphabets, it is a valid variable whereas 100 is a group of digits which is an invalid variable name."
   ]
  },
  {
   "cell_type": "markdown",
   "id": "6b661530",
   "metadata": {},
   "source": [
    "#### 9. What three functions can be used to get the integer, floating-point number, or string version of a value?\n",
    "\n",
    "**Ans:**\n",
    "    Function  for getting integer version of a value                 : int()\n",
    "    Function  for getting floating-point number version of a value   : float().\n",
    "    Function  for getting string version of a value                  : str()."
   ]
  },
  {
   "cell_type": "markdown",
   "id": "6c7e62e0",
   "metadata": {},
   "source": [
    "#### 10. Why does this expression cause an error? How can you fix it?\n",
    "    'I have eaten ' + 99 + ' burritos.'\n",
    "\n",
    "**Ans:** The number 99 in between is not a string, it is of type integer. We cannot concatenate string and an integer into to another string like this.\n",
    "\n",
    "    Corrected syntax: 'I have eaten ' + '99' + ' burritos.' #added quotes to convert the integer to a string.\n",
    "    "
   ]
  },
  {
   "cell_type": "code",
   "execution_count": null,
   "id": "f8702a58",
   "metadata": {},
   "outputs": [],
   "source": []
  }
 ],
 "metadata": {
  "kernelspec": {
   "display_name": "Python 3 (ipykernel)",
   "language": "python",
   "name": "python3"
  },
  "language_info": {
   "codemirror_mode": {
    "name": "ipython",
    "version": 3
   },
   "file_extension": ".py",
   "mimetype": "text/x-python",
   "name": "python",
   "nbconvert_exporter": "python",
   "pygments_lexer": "ipython3",
   "version": "3.9.12"
  }
 },
 "nbformat": 4,
 "nbformat_minor": 5
}
