{
 "cells": [
  {
   "cell_type": "raw",
   "id": "d1a791b4",
   "metadata": {},
   "source": [
    "1. What are the two values of the Boolean data type? How do you write them?\n",
    "\n",
    "Ans: The two values of the Boolean data type are 'True' and 'False'.Capital T and F should be used for the first letter of the values and with the rest of the word in lowercase. eg:"
   ]
  },
  {
   "cell_type": "code",
   "execution_count": 1,
   "id": "ad1dcb04",
   "metadata": {},
   "outputs": [
    {
     "name": "stdout",
     "output_type": "stream",
     "text": [
      "True <class 'bool'>\n",
      "False <class 'bool'>\n"
     ]
    }
   ],
   "source": [
    "a,b = True,False\n",
    "print(a,type(a))\n",
    "print(b,type(b))"
   ]
  },
  {
   "cell_type": "raw",
   "id": "3ca0ebfb",
   "metadata": {},
   "source": [
    "2. What are the three different types of Boolean operators?\n",
    "\n",
    "Ans: The three differnt types of Boolean operators in python are: 'are', 'and', 'not'. eg:"
   ]
  },
  {
   "cell_type": "code",
   "execution_count": 2,
   "id": "caf202a0",
   "metadata": {},
   "outputs": [
    {
     "name": "stdout",
     "output_type": "stream",
     "text": [
      "True\n",
      "True\n",
      "False\n"
     ]
    }
   ],
   "source": [
    "a,b = 10,20\n",
    "print(a > 5 and b > 10) # 'and' example; True and True => True\n",
    "print(a > 20 or b > 10) # 'or' example; False or True => True\n",
    "print(not a > 1) # 'not' example; not(True) => False"
   ]
  },
  {
   "cell_type": "raw",
   "id": "79703e55",
   "metadata": {},
   "source": [
    "3. Make a list of each Boolean operator's truth tables (i.e. every possible combination of Boolean values for the operator and what it evaluate ).\n",
    "\n",
    "Ans: The truth tables for the boolean tables are as follows:\n",
    "\n",
    "    'and' operator truth table:\n",
    "        \n",
    "        True and True   = True\n",
    "        True and False  = False\n",
    "        False and True  = False\n",
    "        False and False = False\n",
    "\n",
    "    'or' operator truth table:\n",
    "        \n",
    "        True or True   = True\n",
    "        True or False  = True\n",
    "        False or True  = True\n",
    "        False or False = False\n",
    "\n",
    "    'not' operaotor truth table:\n",
    "    \n",
    "        True not is False\n",
    "        False not is True\n",
    " "
   ]
  },
  {
   "cell_type": "raw",
   "id": "e350cec6",
   "metadata": {},
   "source": [
    "4. What are the values of the following expressions?\n",
    "\n",
    "    (5 > 4) and (3 == 5)                : False\n",
    "    \n",
    "    not (5 > 4)                         : False\n",
    "    \n",
    "    (5 > 4) or (3 == 5)                 : True\n",
    "    \n",
    "    not ((5 > 4) or (3 == 5))           : False\n",
    "    \n",
    "    (True and True) and (True == False) : False\n",
    "    \n",
    "    (not False) or (not True)           : True\n"
   ]
  },
  {
   "cell_type": "raw",
   "id": "efbe97f3",
   "metadata": {},
   "source": [
    "5. What are the six comparison operators?\n",
    "\n",
    "Ans: The six comparison operators in python are:\n",
    "\n",
    "    1. == \n",
    "    2. != \n",
    "    3. < \n",
    "    4. > \n",
    "    5. <= \n",
    "    6. =>"
   ]
  },
  {
   "cell_type": "raw",
   "id": "11e88df9",
   "metadata": {},
   "source": [
    "6. How do you tell the difference between the equal to and assignment operators? Describe a condition and when you would use one.\n",
    "\n",
    "Ans: '==' is the 'equal to' operator that compares two values and evaluates to a Boolean, whereas '=' is the assignment operator that stores a value in a variable. eg:"
   ]
  },
  {
   "cell_type": "code",
   "execution_count": 3,
   "id": "defa6496",
   "metadata": {},
   "outputs": [
    {
     "name": "stdout",
     "output_type": "stream",
     "text": [
      "True\n"
     ]
    }
   ],
   "source": [
    "a = 3 # assignment operator used to store the value '3' in variable 'a'\n",
    "if a == 3 :# equal to operator used to compare the value of 'a' and 3\n",
    "    print(a == 3)  # output will be printed as 'True'"
   ]
  },
  {
   "cell_type": "raw",
   "id": "4e3ae028",
   "metadata": {},
   "source": [
    "7. Identify the three blocks in this code:\n",
    "\n",
    "    spam = 0\n",
    "    if spam == 10:\n",
    "    print('eggs')\n",
    "    if spam > 5:\n",
    "    print('bacon')\n",
    "    else:\n",
    "    print('ham')\n",
    "    print('spam')\n",
    "    print('spam')\n",
    "\n",
    "Ans: Blocks(code) in python refers to a collection of code that is in the same block or indent. This is most commonly found in classes, functions, and loops. Blocks in the given code are:\n"
   ]
  },
  {
   "cell_type": "code",
   "execution_count": 4,
   "id": "30bac647",
   "metadata": {},
   "outputs": [
    {
     "name": "stdout",
     "output_type": "stream",
     "text": [
      "ham\n",
      "spam\n",
      "spam\n"
     ]
    }
   ],
   "source": [
    "spam = 0\n",
    "\n",
    "if spam == 10:\n",
    "    print('eggs') # block 1\n",
    "    \n",
    "if spam > 5:\n",
    "    print('bacon') # block 2\n",
    "else:\n",
    "    print('ham') # block 3\n",
    "    \n",
    "print('spam')\n",
    "print('spam')"
   ]
  },
  {
   "cell_type": "raw",
   "id": "0edaa028",
   "metadata": {},
   "source": [
    "8. Write code that prints Hello if 1 is stored in spam, prints Howdy if 2 is stored in spam, and prints Greetings! if anything else is stored in spam.\n",
    "\n",
    "Ans:"
   ]
  },
  {
   "cell_type": "code",
   "execution_count": 6,
   "id": "08bd5a49",
   "metadata": {},
   "outputs": [
    {
     "name": "stdout",
     "output_type": "stream",
     "text": [
      "Enter the value of spam:  1\n",
      "Hello\n"
     ]
    }
   ],
   "source": [
    "print(\"Enter the value of spam: \",end = \" \")\n",
    "\n",
    "spam = input()\n",
    "\n",
    "if spam.strip() == \"1\":\n",
    "    print('Hello')\n",
    "elif spam.strip() == \"2\":\n",
    "    print('Howdy')\n",
    "else:\n",
    "    print('Greetings')\n"
   ]
  },
  {
   "cell_type": "raw",
   "id": "5e91ee0e",
   "metadata": {},
   "source": [
    "9.If your programme is stuck in an endless loop, what keys you’ll press?\n",
    "\n",
    "Ans: Press 'Ctrl' + 'c' to stop any program stuck in an endless loop."
   ]
  },
  {
   "cell_type": "raw",
   "id": "6f6af205",
   "metadata": {},
   "source": [
    "10. How can you tell the difference between break and continue?\n",
    "\n",
    "Ans: The 'break' statement will terminate the execution of the current loop and will start the execution of the code after the loop, Whereas the 'continue' statement will skip the execution of the current iteraion after that point and will start the execution of next iteration."
   ]
  },
  {
   "cell_type": "raw",
   "id": "077a4c93",
   "metadata": {},
   "source": [
    "11. In a for loop, what is the difference between range(10), range(0, 10), and range(0, 10, 1)?\n",
    "\n",
    "Ans: In python for loop:\n",
    "    \n",
    "    1. 'range(10)' will call range from 0 to 9 (but not include 10) \n",
    "    2. 'range(0, 10)' explicitly tells the loop to start at 0\n",
    "    3. 'range(0, 10, 1)' explicitly tells the loop to increase the variable by 1 on each iteration "
   ]
  },
  {
   "cell_type": "raw",
   "id": "a5863fe5",
   "metadata": {},
   "source": [
    "12. Write a short program that prints the numbers 1 to 10 using a for loop. Then write an equivalent program that prints the numbers 1 to 10 using a while loop.\n",
    "\n",
    "Ans:"
   ]
  },
  {
   "cell_type": "code",
   "execution_count": 7,
   "id": "fe4957c3",
   "metadata": {},
   "outputs": [
    {
     "name": "stdout",
     "output_type": "stream",
     "text": [
      "Using a for loop: 1 2 3 4 5 6 7 8 9 10 \n",
      "\n",
      "Using a while loop: 1 2 3 4 5 6 7 8 9 10 "
     ]
    }
   ],
   "source": [
    "print(\"Using a for loop: \",end = \"\")\n",
    "for i in range(1,11):\n",
    "    print(i, end=\" \")\n",
    "print('\\n')\n",
    "\n",
    "print(\"Using a while loop: \",end = \"\") \n",
    "n = 1\n",
    "while n <= 10:\n",
    "    print(n, end=\" \")\n",
    "    n += 1\n"
   ]
  },
  {
   "cell_type": "raw",
   "id": "bc36e156",
   "metadata": {},
   "source": [
    "13. If you had a function named bacon() inside a module named spam, how would you call it after importing spam?\n",
    "\n",
    "Ans: This function 'bacon()' can be called after importing the function 'spam' using 'spam.bacon()'"
   ]
  }
 ],
 "metadata": {
  "kernelspec": {
   "display_name": "Python 3 (ipykernel)",
   "language": "python",
   "name": "python3"
  },
  "language_info": {
   "codemirror_mode": {
    "name": "ipython",
    "version": 3
   },
   "file_extension": ".py",
   "mimetype": "text/x-python",
   "name": "python",
   "nbconvert_exporter": "python",
   "pygments_lexer": "ipython3",
   "version": "3.9.12"
  }
 },
 "nbformat": 4,
 "nbformat_minor": 5
}
