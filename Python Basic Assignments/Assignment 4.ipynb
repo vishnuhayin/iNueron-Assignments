{
 "cells": [
  {
   "cell_type": "raw",
   "id": "4dc06665",
   "metadata": {},
   "source": [
    "1. What exactly is []?\n",
    "\n",
    "Ans: '[]' represents an empty list. Empty list means a list that contains no items. This is similar to '' which represents an empty string."
   ]
  },
  {
   "cell_type": "raw",
   "id": "479dc143",
   "metadata": {},
   "source": [
    "2.In a list of values stored in a variable called spam, how would you assign the value 'hello' as the third value? (Assume [2, 4, 6, 8, 10] are in spam.)\n",
    "\n",
    "Ans: We can assign the third value by using\n",
    "        \n",
    "        spam[2] = 'hello'\n"
   ]
  },
  {
   "cell_type": "code",
   "execution_count": 1,
   "id": "d3dd8fc4",
   "metadata": {},
   "outputs": [
    {
     "name": "stdout",
     "output_type": "stream",
     "text": [
      "[2, 4, 'hello', 8, 10]\n"
     ]
    }
   ],
   "source": [
    "spam=[2,4,6,8,10]\n",
    "spam[2]='hello'\n",
    "print(spam)"
   ]
  },
  {
   "cell_type": "raw",
   "id": "f1574592",
   "metadata": {},
   "source": [
    "Let's pretend the spam includes the list ['a', 'b', 'c', 'd'] for the next three queries."
   ]
  },
  {
   "cell_type": "raw",
   "id": "78f5d6ac",
   "metadata": {},
   "source": [
    "3. What is the value of spam[int(int('3'*2)//11)] ?\n",
    "\n",
    "Ans: 'd'\n",
    "\n",
    "'3' * 2 is '33'(str), it is then type casted to 33(int) before dividing the value with 11.\n",
    "\n",
    " => 33/11 = 3\n",
    "\n",
    " i.e. spam[3] = 'd'\n",
    " \n",
    "Code:"
   ]
  },
  {
   "cell_type": "code",
   "execution_count": 3,
   "id": "bbda3f8f",
   "metadata": {},
   "outputs": [
    {
     "name": "stdout",
     "output_type": "stream",
     "text": [
      "spam[int(int('3'*2)//11)] -> d\n"
     ]
    }
   ],
   "source": [
    "spam = ['a','b','c','d']\n",
    "print(\"spam[int(int('3'*2)//11)] ->\" , spam[int(int('3'*2)//11)])"
   ]
  },
  {
   "cell_type": "raw",
   "id": "034f0e59",
   "metadata": {},
   "source": [
    "4. What is the value of spam[-1]?\n",
    "\n",
    "Ans: The value of spam[-1] is 'd'.\n",
    "\n",
    "Code:"
   ]
  },
  {
   "cell_type": "code",
   "execution_count": 4,
   "id": "c188c277",
   "metadata": {},
   "outputs": [
    {
     "data": {
      "text/plain": [
       "'d'"
      ]
     },
     "execution_count": 4,
     "metadata": {},
     "output_type": "execute_result"
    }
   ],
   "source": [
    "spam[-1]"
   ]
  },
  {
   "cell_type": "raw",
   "id": "f2e2276a",
   "metadata": {},
   "source": [
    "5. What is the value of spam[:2]?\n",
    "\n",
    "Ans: The value of spam[:2] is ['a','b'].\n",
    "\n",
    "Code:"
   ]
  },
  {
   "cell_type": "code",
   "execution_count": 5,
   "id": "c23d0551",
   "metadata": {},
   "outputs": [
    {
     "data": {
      "text/plain": [
       "['a', 'b']"
      ]
     },
     "execution_count": 5,
     "metadata": {},
     "output_type": "execute_result"
    }
   ],
   "source": [
    "spam[:2]"
   ]
  },
  {
   "cell_type": "raw",
   "id": "fd75650c",
   "metadata": {},
   "source": [
    "Let's pretend bacon has the list [3.14, 'cat,' 11, 'cat,' True] for the next three questions."
   ]
  },
  {
   "cell_type": "raw",
   "id": "42527ce3",
   "metadata": {},
   "source": [
    "6. What is the value of bacon.index('cat')?\n",
    "\n",
    "Ans: The value of bacon.index('cat') is 1.\n",
    "\n",
    "Code:"
   ]
  },
  {
   "cell_type": "code",
   "execution_count": 9,
   "id": "35996430",
   "metadata": {},
   "outputs": [
    {
     "data": {
      "text/plain": [
       "1"
      ]
     },
     "execution_count": 9,
     "metadata": {},
     "output_type": "execute_result"
    }
   ],
   "source": [
    "bacon = [3.14, 'cat', 11, 'cat', True]\n",
    "bacon.index('cat')"
   ]
  },
  {
   "cell_type": "raw",
   "id": "157ea2fa",
   "metadata": {},
   "source": [
    "7. How does bacon.append(99) change the look of the list value in bacon?\n",
    "\n",
    "Ans: 'bacon.append(99)' will add the number 99 to the end of the list bacon.\n",
    "\n",
    "Code:"
   ]
  },
  {
   "cell_type": "code",
   "execution_count": 13,
   "id": "ffff35ef",
   "metadata": {},
   "outputs": [
    {
     "name": "stdout",
     "output_type": "stream",
     "text": [
      "bacon before append =  [3.14, 'cat', 11, 'cat', True]\n",
      "bacon after append =  [3.14, 'cat', 11, 'cat', True, 99]\n"
     ]
    }
   ],
   "source": [
    "print('bacon before append = ',bacon)\n",
    "bacon.append(99)\n",
    "print('bacon after append = ',bacon)"
   ]
  },
  {
   "cell_type": "raw",
   "id": "555a5267",
   "metadata": {},
   "source": [
    "8. How does bacon.remove('cat') change the look of the list in bacon?\n",
    "\n",
    "Ans: \"bacon.remove('cat')\" would remove the first occurence of the element 'cat' in the list bacon."
   ]
  },
  {
   "cell_type": "code",
   "execution_count": 14,
   "id": "318cab0a",
   "metadata": {},
   "outputs": [
    {
     "name": "stdout",
     "output_type": "stream",
     "text": [
      "bacon before bacon.remove('cat') =  [3.14, 'cat', 11, 'cat', True, 99]\n",
      "bacon after bacon.remove('cat') =  [3.14, 11, 'cat', True, 99]\n"
     ]
    }
   ],
   "source": [
    "print(\"bacon before bacon.remove('cat') = \",bacon)\n",
    "bacon.remove('cat')\n",
    "print(\"bacon after bacon.remove('cat') = \",bacon)"
   ]
  },
  {
   "cell_type": "raw",
   "id": "b8478c7a",
   "metadata": {},
   "source": [
    "9. What are the list concatenation and list replication operators?\n",
    "\n",
    "Ans: List concatenation means joining two different lists to make one big list having the contents of the both. The operator used for list concatenation is '+'.\n",
    "\n",
    "List replication means we can repeat each element in the list to the given amount of times. The operator for replication is '*'.\n",
    "\n",
    "Example Code:"
   ]
  },
  {
   "cell_type": "code",
   "execution_count": 1,
   "id": "9b607fe2",
   "metadata": {},
   "outputs": [
    {
     "name": "stdout",
     "output_type": "stream",
     "text": [
      "After list Concatenation:  ['AB', 1, 'CD', (2+3j), (4, 5, 6), 'EF', [7, 8, 9], 'GH']\n",
      "After list Replication:  ['EF', [7, 8, 9], 'GH', 'EF', [7, 8, 9], 'GH']\n"
     ]
    }
   ],
   "source": [
    "list_1 = ['AB',1,'CD',2+3j,(4,5,6)]\n",
    "list_2 = ['EF',[7,8,9],'GH']\n",
    "\n",
    "print('After list Concatenation: ',list_1 + list_2)\n",
    "print('After list Replication: ',list_2*2)"
   ]
  },
  {
   "cell_type": "raw",
   "id": "0f7e5bca",
   "metadata": {},
   "source": [
    "10. What is difference between the list methods append() and insert()?\n",
    "\n",
    "Ans: 'append()' method will add values to the end of a list whereas 'insert()' method can add them anywhere in the list.\n",
    "\n",
    "Example Code:"
   ]
  },
  {
   "cell_type": "code",
   "execution_count": 2,
   "id": "43d835db",
   "metadata": {},
   "outputs": [
    {
     "name": "stdout",
     "output_type": "stream",
     "text": [
      "[1, 2, 3, 4, 5, 6]\n",
      "[1, 2, 'Demo', 3, 4, 5, 6]\n"
     ]
    }
   ],
   "source": [
    "list = [1,2,3,4,5]\n",
    "list.append(6)\n",
    "print(list)\n",
    "list.insert(2,'Demo')\n",
    "print(list)"
   ]
  },
  {
   "cell_type": "raw",
   "id": "eb032b9d",
   "metadata": {},
   "source": [
    "11. What are the two methods for removing items from a list?\n",
    "\n",
    "Ans: The 'pop()' statement and the 'remove()' method are two ways to remove values from a list.\n",
    "\n",
    "Example Code:"
   ]
  },
  {
   "cell_type": "code",
   "execution_count": 6,
   "id": "104afcd6",
   "metadata": {},
   "outputs": [
    {
     "name": "stdout",
     "output_type": "stream",
     "text": [
      "[2, 3, 4, 5]\n",
      "[2, 3, 4]\n"
     ]
    }
   ],
   "source": [
    "list = [1,2,3,4,5]\n",
    "list.remove(1) # removes the given element\n",
    "print(list)\n",
    "list.pop(3)\n",
    "print(list) # removes the element in the given index"
   ]
  },
  {
   "cell_type": "raw",
   "id": "3f869134",
   "metadata": {},
   "source": [
    "12. Describe how list values and string values are identical.\n",
    "\n",
    "Ans: The similarity between Lists and Strings in Python is that both are sequences. Both lists and strings can be passed to len() function, have indexes and slices, be used in for loops, be concatenated or replicated, and be used with the in and not in operators."
   ]
  },
  {
   "cell_type": "raw",
   "id": "c8b7d2c0",
   "metadata": {},
   "source": [
    "13. What's the difference between tuples and lists?\n",
    "\n",
    "Ans: Lists are Mutable means they can have values added, removed, or changed whereas tuples are immutable means the tuple values cannot be changed at all.\n",
    "\n",
    "lists are represented using square brackets, [], while tuples use the parentheses , ().\n",
    "\n",
    "Lists have more number of built-in methods compared to that of tuple."
   ]
  },
  {
   "cell_type": "raw",
   "id": "bc53ef83",
   "metadata": {},
   "source": [
    "14. How do you type a tuple value that only contains the integer 42?\n",
    "\n",
    "Ans: (42,) \n",
    "\n",
    "With trailing comma. Otherwise it will be considered as an 'int' by the python Interpreter.\n",
    "\n",
    "Code:"
   ]
  },
  {
   "cell_type": "code",
   "execution_count": 7,
   "id": "ca189914",
   "metadata": {},
   "outputs": [
    {
     "name": "stdout",
     "output_type": "stream",
     "text": [
      "<class 'int'>\n",
      "<class 'tuple'>\n"
     ]
    }
   ],
   "source": [
    "t1 = (42)\n",
    "t2 = (42,)\n",
    "print(type(t1))\n",
    "print(type(t2))"
   ]
  },
  {
   "cell_type": "raw",
   "id": "aa74822c",
   "metadata": {},
   "source": [
    "15. How do you get a list value's tuple form? How do you get a tuple value's list form?\n",
    "\n",
    "Ans:  \n",
    "    'tuple()' : used to convert a list to tuple.\n",
    "    'list()'  : used to convert a tuple to list."
   ]
  },
  {
   "cell_type": "raw",
   "id": "5a32d850",
   "metadata": {},
   "source": [
    "16. Variables that \"contain\" list values are not necessarily lists themselves. Instead, what do they contain?\n",
    "\n",
    "Ans: They contain references to list values."
   ]
  },
  {
   "cell_type": "raw",
   "id": "e2d75312",
   "metadata": {},
   "source": [
    "17. How do you distinguish between copy.copy() and copy.deepcopy()?\n",
    "\n",
    "Ans: The copy.copy() or 'shallow copy' constructs a new compound object and then (to the extent possible) inserts references into it to the objects found in the original.\n",
    "\n",
    "The copy.deepcopy() or 'deep copy' constructs a new compound object and then, recursively, inserts copies into it of the objects found in the original.\n",
    "\n",
    "That is, only copy.deepcopy() will duplicate any lists inside the list.\n",
    "\n",
    "Example Code:"
   ]
  },
  {
   "cell_type": "code",
   "execution_count": 17,
   "id": "4ed6fb4f",
   "metadata": {},
   "outputs": [
    {
     "name": "stdout",
     "output_type": "stream",
     "text": [
      "False\n",
      "True\n",
      "False\n",
      "True\n"
     ]
    }
   ],
   "source": [
    "a = [1, 2, 3]\n",
    "b = [4, 5, 6]\n",
    "c = [a, b]\n",
    "d = copy.copy(c)\n",
    "\n",
    "print(id(c) == id(d))          # False - d is now a new object\n",
    "print(id(c[0]) == id(d[0]))    # True - d[0] is the same object as c[0]\n",
    "\n",
    "print(id(c) == id(d))          # False - d is now a new object\n",
    "print(id(c[0]) == id(d[0]))    # False - d[0] is now a new object"
   ]
  }
 ],
 "metadata": {
  "kernelspec": {
   "display_name": "Python 3 (ipykernel)",
   "language": "python",
   "name": "python3"
  },
  "language_info": {
   "codemirror_mode": {
    "name": "ipython",
    "version": 3
   },
   "file_extension": ".py",
   "mimetype": "text/x-python",
   "name": "python",
   "nbconvert_exporter": "python",
   "pygments_lexer": "ipython3",
   "version": "3.9.12"
  }
 },
 "nbformat": 4,
 "nbformat_minor": 5
}
