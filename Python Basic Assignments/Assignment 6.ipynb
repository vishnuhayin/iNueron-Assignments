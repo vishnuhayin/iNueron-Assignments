{
 "cells": [
  {
   "cell_type": "markdown",
   "id": "bedb959b",
   "metadata": {},
   "source": [
    "# Assignment 6"
   ]
  },
  {
   "cell_type": "markdown",
   "id": "c8697094",
   "metadata": {},
   "source": [
    "#### 1. What are escape characters, and how do you use them?\n",
    "\n",
    "**Ans:** Escape characters are characters that are used to represent charactersin string values that would otherwise be difficult to type into code. We can use the backslash character to escape a single character or symbol\n",
    "\n",
    "Eg: \n",
    "\n",
    "`txt = \"We are the so-called \"Vikings\" from the north.\"`\n",
    "    \n",
    "We will get an error if we use double quotes inside a string that is surrounded by double quotes \n",
    "\n",
    "To fix this problem, use the escape character \\\\\":\n",
    "    \n",
    "`txt = \"We are the so-called \\\"Vikings\\\" from the north.\"`\n",
    "    "
   ]
  },
  {
   "cell_type": "markdown",
   "id": "011fbd45",
   "metadata": {},
   "source": [
    "#### 2. What do the escape characters n and t stand for?\n",
    "\n",
    "**Ans:** \n",
    "\n",
    "    \\n : newline\n",
    "    \\t : tab"
   ]
  },
  {
   "cell_type": "markdown",
   "id": "045daca3",
   "metadata": {},
   "source": [
    "#### 3.What is the way to include backslash character in a string?\n",
    "\n",
    "**Ans:** Use \\\\ to represent the backslash character in a string."
   ]
  },
  {
   "cell_type": "markdown",
   "id": "6debab0e",
   "metadata": {},
   "source": [
    "#### 4. The string \"Howl's Moving Castle\" is a correct value. Why isn't the single quote character in the word Howl's not escaped a problem?\n",
    "\n",
    "**Ans:** The string \"Howl's Moving Castle\" escaped the problem because it is wrapped inside double quotes. If its wrapped inside single quotes then we have to use escape character \\' to show single quote in the final output.\n",
    "     \n",
    "Example Code:"
   ]
  },
  {
   "cell_type": "code",
   "execution_count": 3,
   "id": "c3eb22f1",
   "metadata": {},
   "outputs": [
    {
     "name": "stdout",
     "output_type": "stream",
     "text": [
      "Howl's Moving Castle\n",
      "Howl's Moving Castle\n"
     ]
    }
   ],
   "source": [
    "print(\"Howl's Moving Castle\")\n",
    "print('Howl\\'s Moving Castle')"
   ]
  },
  {
   "cell_type": "markdown",
   "id": "4ae70bf8",
   "metadata": {},
   "source": [
    "#### 5. How do you write a string of newlines if you don't want to use the n character?\n",
    "\n",
    "**Ans:**  Using multiline string we can write newlines in string without the \\n escape character.\n",
    "\n",
    "Example Code:"
   ]
  },
  {
   "cell_type": "code",
   "execution_count": 5,
   "id": "7e470bf3",
   "metadata": {},
   "outputs": [
    {
     "name": "stdout",
     "output_type": "stream",
     "text": [
      "Smile Please\n",
      "Because you are checking my Assignment\n"
     ]
    }
   ],
   "source": [
    "txt = '''Smile Please\n",
    "Because you are checking my Assignment'''\n",
    "\n",
    "print(txt)\n"
   ]
  },
  {
   "cell_type": "markdown",
   "id": "4ff9980b",
   "metadata": {},
   "source": [
    "#### 6. What are the values of the given expressions?\n",
    "\n",
    "    'Hello, world!'[1]\n",
    "    'Hello, world!'[0:5]\n",
    "    'Hello, world!'[:5]\n",
    "    'Hello, world!'[3:]\n",
    "\n",
    "**Ans:** The values for the given expressions are:\n",
    "\n",
    "    'Hello, world!'[1]   : 'e'\n",
    "    'Hello, world!'[0:5] : 'Hello'\n",
    "    'Hello, world!'[:5]  : 'Hello'\n",
    "    'Hello, world!'[3:]  : 'lo, world!'"
   ]
  },
  {
   "cell_type": "markdown",
   "id": "86e6c6af",
   "metadata": {},
   "source": [
    "#### 7. What are the values of the following expressions?\n",
    "\n",
    "    'Hello'.upper()\n",
    "    'Hello'.upper().isupper()\n",
    "    'Hello'.upper().lower()\n",
    "\n",
    "**Ans:** The values for the given expressions are:\n",
    "\n",
    "    'Hello'.upper()           : 'HELLO'\n",
    "    'Hello'.upper().isupper() : True\n",
    "    'Hello'.upper().lower()   : 'hello'"
   ]
  },
  {
   "cell_type": "markdown",
   "id": "d1671bf4",
   "metadata": {},
   "source": [
    "#### 8. What are the values of the following expressions?\n",
    "\n",
    "    'Remember, remember, the fifth of July.'.split()\n",
    "    '-'.join('There can only one.'.split())\n",
    "\n",
    "**Ans:** The values for the given expressions are:\n",
    "\n",
    "   'Remember, remember, the fifth of July.'.split() : `['Remember,', 'remember,', 'the', 'fifith', 'of', 'July.']`\n",
    "\n",
    "   '-'.join('There can only one.'.split())          : `'There-can-only-one'`"
   ]
  },
  {
   "cell_type": "markdown",
   "id": "90132c49",
   "metadata": {},
   "source": [
    "#### 9. What are the methods for right-justifying, left-justifying, and centering a string?\n",
    "\n",
    "**Ans:** The methods for \n",
    "    \n",
    "    right-justifying a string : rjust()\n",
    "    left-justifying a string  : ljust()\n",
    "    centering a string        : center()"
   ]
  },
  {
   "cell_type": "markdown",
   "id": "c6ca577a",
   "metadata": {},
   "source": [
    "#### 10. What is the best way to remove whitespace characters from the start or end?\n",
    "\n",
    "**Ans:** The `lstrip()` and `rstrip()` methods remove whitesapce characters from the left and right ends of a string respectively."
   ]
  }
 ],
 "metadata": {
  "kernelspec": {
   "display_name": "Python 3 (ipykernel)",
   "language": "python",
   "name": "python3"
  },
  "language_info": {
   "codemirror_mode": {
    "name": "ipython",
    "version": 3
   },
   "file_extension": ".py",
   "mimetype": "text/x-python",
   "name": "python",
   "nbconvert_exporter": "python",
   "pygments_lexer": "ipython3",
   "version": "3.9.12"
  }
 },
 "nbformat": 4,
 "nbformat_minor": 5
}
